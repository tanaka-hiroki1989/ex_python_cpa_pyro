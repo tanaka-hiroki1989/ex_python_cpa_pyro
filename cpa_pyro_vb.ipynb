{
 "cells": [
  {
   "cell_type": "code",
   "execution_count": 3,
   "metadata": {},
   "outputs": [],
   "source": [
    "import matplotlib.pyplot as plt\n",
    "import numpy as np\n",
    "import torch\n",
    "import pyro\n",
    "import pyro.distributions as dist\n",
    "from model_pyro import model,guide"
   ]
  },
  {
   "cell_type": "code",
   "execution_count": 4,
   "metadata": {},
   "outputs": [],
   "source": [
    "data = []\n",
    "for i in range(200):\n",
    "    if i < 60:\n",
    "        data.append(int(np.random.random(1)*3+50))\n",
    "    else:\n",
    "        data.append(int(np.random.random(1)*1+80))"
   ]
  },
  {
   "cell_type": "code",
   "execution_count": 6,
   "metadata": {},
   "outputs": [
    {
     "data": {
      "image/png": "[encoded data removed]",
      "text/plain": [
       "<Figure size 432x288 with 1 Axes>"
      ]
     },
     "metadata": {
      "needs_background": "light"
     },
     "output_type": "display_data"
    }
   ],
   "source": [
    "from plot import plot\n",
    "plot(data)"
   ]
  },
  {
   "cell_type": "code",
   "execution_count": 4,
   "metadata": {},
   "outputs": [],
   "source": [
    "adam = pyro.optim.Adam({\"lr\": 0.02}) \n",
    "elbo = pyro.infer.Trace_ELBO()\n",
    "svi = pyro.infer.SVI(model, guide, adam, elbo)"
   ]
  },
  {
   "cell_type": "code",
   "execution_count": 5,
   "metadata": {},
   "outputs": [
    {
     "name": "stdout",
     "output_type": "stream",
     "text": [
      "Elbo loss: 72308.96681411081\n",
      "Elbo loss: 1208.851916893991\n",
      "Elbo loss: 912.839887180074\n",
      "Elbo loss: 1425.3584649554707\n",
      "Elbo loss: 897.0833220483413\n",
      "Elbo loss: 778.601099351425\n",
      "Elbo loss: 838.0605080045835\n",
      "Elbo loss: 837.7570572841646\n",
      "Elbo loss: 859.2118353511132\n",
      "Elbo loss: 783.3821103674397\n"
     ]
    }
   ],
   "source": [
    "losses = []\n",
    "for step in range(10000):  # Consider running for more steps.\n",
    "    loss = svi.step(torch.tensor(data))\n",
    "    losses.append(loss)\n",
    "    if step % 1000 == 0:\n",
    "        print(\"Elbo loss: {}\".format(loss))\n",
    "        "
   ]
  },
  {
   "cell_type": "code",
   "execution_count": 6,
   "metadata": {},
   "outputs": [
    {
     "data": {
      "image/png": "[encoded data removed]",
      "text/plain": [
       "<Figure size 360x144 with 1 Axes>"
      ]
     },
     "metadata": {
      "needs_background": "light"
     },
     "output_type": "display_data"
    }
   ],
   "source": [
    "plt.figure(figsize=(5, 2))\n",
    "plt.plot(losses)\n",
    "plt.xlabel(\"SVI step\")\n",
    "plt.ylabel(\"ELBO loss\");"
   ]
  },
  {
   "cell_type": "code",
   "execution_count": 7,
   "metadata": {},
   "outputs": [],
   "source": [
    "pi= pyro.param(\"pi\").data.cpu().numpy()"
   ]
  },
  {
   "cell_type": "code",
   "execution_count": 8,
   "metadata": {},
   "outputs": [],
   "source": [
    "from scipy.special import softmax\n",
    "prob=softmax(pi)"
   ]
  },
  {
   "cell_type": "code",
   "execution_count": 9,
   "metadata": {},
   "outputs": [
    {
     "name": "stdout",
     "output_type": "stream",
     "text": [
      "0 1.0555261e-05\n",
      "1 7.04015e-06\n",
      "2 5.607779e-05\n",
      "3 9.70833e-06\n",
      "4 0.00010484607\n",
      "5 5.2916334e-06\n",
      "6 3.5449893e-06\n",
      "7 1.4611142e-05\n",
      "8 1.2647518e-05\n",
      "9 1.6380869e-06\n",
      "10 3.877437e-05\n",
      "11 4.5026092e-05\n",
      "12 5.322979e-06\n",
      "13 1.131379e-05\n",
      "14 0.0005118261\n",
      "15 1.6743868e-05\n",
      "16 4.7367266e-06\n",
      "17 5.4365855e-06\n",
      "18 0.00073483074\n",
      "19 3.2412945e-06\n",
      "20 9.491635e-06\n",
      "21 2.7600048e-05\n",
      "22 3.0570855e-06\n",
      "23 7.342629e-06\n",
      "24 0.00025437356\n",
      "25 2.691648e-05\n",
      "26 2.2915288e-05\n",
      "27 1.8063978e-05\n",
      "28 2.8938412e-06\n",
      "29 8.953547e-06\n",
      "30 2.4591138e-06\n",
      "31 3.5926273e-06\n",
      "32 2.0980055e-05\n",
      "33 3.236919e-05\n",
      "34 2.1181539e-05\n",
      "35 0.00026739854\n",
      "36 3.5456538e-05\n",
      "37 2.4655352e-05\n",
      "38 2.58258e-05\n",
      "39 7.725805e-06\n",
      "40 8.5468355e-06\n",
      "41 1.0139653e-05\n",
      "42 2.084928e-06\n",
      "43 5.8408154e-06\n",
      "44 3.864614e-06\n",
      "45 3.9748465e-05\n",
      "46 2.0667665e-06\n",
      "47 3.1845873e-05\n",
      "48 1.9867344e-05\n",
      "49 8.848252e-05\n",
      "50 0.0021169202\n",
      "51 6.657621e-06\n",
      "52 4.2674797e-05\n",
      "53 5.468821e-06\n",
      "54 6.338541e-05\n",
      "55 5.5178934e-06\n",
      "56 5.0493916e-05\n",
      "57 5.3664985e-06\n",
      "58 4.698442e-05\n",
      "59 6.173886e-06\n",
      "60 2.1121677e-06\n",
      "61 6.6092995e-05\n",
      "62 3.837971e-06\n",
      "63 5.0914487e-06\n",
      "64 0.0013138083\n",
      "65 0.99024224\n",
      "66 1.1208094e-05\n",
      "67 1.8314913e-05\n",
      "68 4.283506e-06\n",
      "69 9.825641e-05\n",
      "70 9.2722385e-06\n",
      "71 2.3734065e-06\n",
      "72 1.5837226e-05\n",
      "73 0.00022356265\n",
      "74 4.48911e-06\n",
      "75 3.0958333e-06\n",
      "76 9.022944e-06\n",
      "77 0.00016645182\n",
      "78 1.33080375e-05\n",
      "79 2.9188777e-06\n",
      "80 6.117332e-05\n",
      "81 5.1962224e-06\n",
      "82 2.4038675e-06\n",
      "83 6.7733786e-06\n",
      "84 2.5587083e-06\n",
      "85 2.482626e-06\n",
      "86 2.6137318e-06\n",
      "87 2.3184542e-05\n",
      "88 1.3800281e-05\n",
      "89 3.88316e-06\n",
      "90 6.5088575e-06\n",
      "91 7.872474e-06\n",
      "92 1.0525788e-05\n",
      "93 1.0376e-05\n",
      "94 2.4316294e-05\n",
      "95 3.965725e-05\n",
      "96 9.965512e-06\n",
      "97 2.3503642e-06\n",
      "98 0.00027183178\n",
      "99 3.5706641e-06\n",
      "100 1.6268195e-05\n",
      "101 2.3284852e-05\n",
      "102 2.7913552e-06\n",
      "103 2.6164005e-06\n",
      "104 3.605433e-06\n",
      "105 7.553547e-06\n",
      "106 8.776896e-06\n",
      "107 7.0841497e-06\n",
      "108 2.642991e-06\n",
      "109 2.3530454e-05\n",
      "110 2.5856298e-06\n",
      "111 7.8762e-06\n",
      "112 5.627336e-06\n",
      "113 9.167064e-06\n",
      "114 9.114429e-06\n",
      "115 4.1067337e-06\n",
      "116 5.656919e-06\n",
      "117 2.556334e-05\n",
      "118 0.0002597991\n",
      "119 1.1151565e-05\n",
      "120 3.4144314e-06\n",
      "121 6.6384296e-06\n",
      "122 1.9650868e-05\n",
      "123 2.577235e-06\n",
      "124 9.421602e-05\n",
      "125 9.153654e-06\n",
      "126 5.47934e-06\n",
      "127 3.4730033e-06\n",
      "128 8.2851446e-05\n",
      "129 2.7052806e-06\n",
      "130 0.00010668135\n",
      "131 7.4616737e-06\n",
      "132 1.1202548e-05\n",
      "133 7.001981e-05\n",
      "134 3.378866e-05\n",
      "135 4.6734413e-06\n",
      "136 4.4855324e-06\n",
      "137 3.2446808e-06\n",
      "138 4.349169e-06\n",
      "139 7.75422e-05\n",
      "140 2.1992917e-06\n",
      "141 8.734994e-06\n",
      "142 2.571365e-06\n",
      "143 1.1746801e-05\n",
      "144 2.6354978e-06\n",
      "145 1.0837689e-05\n",
      "146 1.7927068e-06\n",
      "147 2.2110833e-06\n",
      "148 5.4394436e-06\n",
      "149 3.5018867e-05\n",
      "150 7.5382263e-06\n",
      "151 3.607268e-05\n",
      "152 0.00024227584\n",
      "153 0.0002690002\n",
      "154 4.3790556e-06\n",
      "155 1.0952886e-05\n",
      "156 3.0854306e-05\n",
      "157 5.976858e-06\n",
      "158 2.1281187e-06\n",
      "159 1.0983619e-05\n",
      "160 6.4941196e-06\n",
      "161 1.8048135e-05\n",
      "162 1.8895144e-06\n",
      "163 6.150386e-06\n",
      "164 4.7338003e-06\n",
      "165 7.756856e-06\n",
      "166 3.7154464e-06\n",
      "167 1.631742e-05\n",
      "168 3.4028537e-05\n",
      "169 6.290224e-06\n",
      "170 3.643406e-06\n",
      "171 6.704062e-06\n",
      "172 5.5954817e-05\n",
      "173 8.182714e-06\n",
      "174 5.9771032e-06\n",
      "175 2.2097574e-06\n",
      "176 7.888144e-06\n",
      "177 4.7641417e-05\n",
      "178 1.3420693e-05\n",
      "179 2.794213e-06\n",
      "180 5.7284938e-06\n",
      "181 5.6682816e-06\n",
      "182 2.999669e-06\n",
      "183 4.088722e-06\n",
      "184 2.7541846e-06\n",
      "185 6.3995503e-06\n",
      "186 4.3570253e-05\n",
      "187 2.2368718e-06\n",
      "188 1.2432773e-05\n",
      "189 2.1157231e-05\n",
      "190 2.831145e-05\n",
      "191 2.0265386e-06\n",
      "192 6.3173193e-06\n",
      "193 4.8534384e-05\n",
      "194 3.2796393e-06\n",
      "195 6.0009947e-06\n",
      "196 8.4082085e-06\n",
      "197 1.2295581e-05\n",
      "198 5.314508e-06\n",
      "199 0.00010160828\n"
     ]
    }
   ],
   "source": [
    "for i in range(len(prob)):\n",
    "    print(i,prob[i])"
   ]
  },
  {
   "cell_type": "code",
   "execution_count": 10,
   "metadata": {},
   "outputs": [
    {
     "data": {
      "image/png": "[encoded data removed]",
      "text/plain": [
       "<Figure size 432x288 with 1 Axes>"
      ]
     },
     "metadata": {
      "needs_background": "light"
     },
     "output_type": "display_data"
    }
   ],
   "source": [
    "import matplotlib.pyplot as plt\n",
    "# データ生成\n",
    "\n",
    "\n",
    "# プロット\n",
    "plt.plot(prob, label=\"test\")\n",
    "\n",
    "# 凡例の表示\n",
    "plt.legend()\n",
    "\n",
    "# プロット表示(設定の反映)\n",
    "plt.show()"
   ]
  },
  {
   "cell_type": "code",
   "execution_count": 11,
   "metadata": {},
   "outputs": [],
   "source": [
    "a1=pyro.param(\"a1\").data.cpu().numpy()\n",
    "b1=pyro.param(\"b1\").data.cpu().numpy()"
   ]
  },
  {
   "cell_type": "code",
   "execution_count": 12,
   "metadata": {},
   "outputs": [
    {
     "name": "stdout",
     "output_type": "stream",
     "text": [
      "211.23458962662795 4.148864828805121\n"
     ]
    }
   ],
   "source": [
    "print(a1,b1)"
   ]
  },
  {
   "cell_type": "code",
   "execution_count": 13,
   "metadata": {},
   "outputs": [],
   "source": [
    "a2=pyro.param(\"a2\").data.cpu().numpy()\n",
    "b2=pyro.param(\"b2\").data.cpu().numpy()"
   ]
  },
  {
   "cell_type": "code",
   "execution_count": 14,
   "metadata": {},
   "outputs": [
    {
     "name": "stdout",
     "output_type": "stream",
     "text": [
      "385.41297644368046 4.9312085492256115\n"
     ]
    }
   ],
   "source": [
    "print(a2,b2)"
   ]
  }
 ],
 "metadata": {
  "kernelspec": {
   "display_name": "Python 3.10.0 ('dmm_pyro')",
   "language": "python",
   "name": "python3"
  },
  "language_info": {
   "codemirror_mode": {
    "name": "ipython",
    "version": 3
   },
   "file_extension": ".py",
   "mimetype": "text/x-python",
   "name": "python",
   "nbconvert_exporter": "python",
   "pygments_lexer": "ipython3",
   "version": "3.10.0"
  },
  "orig_nbformat": 4,
  "vscode": {
   "interpreter": {
    "hash": "6ad9505370cb3dec620dc35465a52cf3ae64300f69412d40d5aa0cfb7cfa7a6a"
   }
  }
 },
 "nbformat": 4,
 "nbformat_minor": 2
}
