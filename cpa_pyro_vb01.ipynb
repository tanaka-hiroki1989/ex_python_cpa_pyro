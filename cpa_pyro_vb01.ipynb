{
 "cells": [
  {
   "cell_type": "code",
   "execution_count": 3,
   "metadata": {},
   "outputs": [
    {
     "ename": "",
     "evalue": "",
     "output_type": "error",
     "traceback": [
      "\u001b[1;31mCanceled future for execute_request message before replies were done"
     ]
    },
    {
     "ename": "",
     "evalue": "",
     "output_type": "error",
     "traceback": [
      "\u001b[1;31m現在のセルまたは前のセルでコードを実行中に、カーネルがクラッシュしました。エラーの原因を特定するには、セル内のコードを確認してください。詳細については、<a href='https://aka.ms/vscodeJupyterKernelCrash'>こちら</a> をクリックしてください。さらなる詳細については、Jupyter [log] (command:jupyter.viewOutput) を参照してください。"
     ]
    }
   ],
   "source": [
    "import matplotlib.pyplot as plt\n",
    "import numpy as np\n",
    "#import torch\n",
    "#import pyro\n",
    "#import pyro.distributions as dist\n",
    "#from models.model_pyro import model,guide"
   ]
  },
  {
   "cell_type": "code",
   "execution_count": 6,
   "metadata": {},
   "outputs": [],
   "source": [
    "def data_generator(cp,mean1,mean2,noise1,noise2):\n",
    "    data = []\n",
    "    for i in range(200):\n",
    "        if i < cp:\n",
    "            data.append(int(np.random.random(1)*noise1+mean1))\n",
    "        else:\n",
    "            data.append(int(np.random.random(1)*noise2+mean2))\n",
    "    return data"
   ]
  },
  {
   "cell_type": "code",
   "execution_count": 7,
   "metadata": {},
   "outputs": [
    {
     "data": {
      "image/png": "[encoded data removed]",
      "text/plain": [
       "<Figure size 432x288 with 1 Axes>"
      ]
     },
     "metadata": {
      "needs_background": "light"
     },
     "output_type": "display_data"
    }
   ],
   "source": [
    "from plot import plot\n",
    "data1=data_generator(100,10,15,3,3)\n",
    "plot(data1)"
   ]
  },
  {
   "cell_type": "code",
   "execution_count": 4,
   "metadata": {},
   "outputs": [],
   "source": [
    "adam = pyro.optim.Adam({\"lr\": 0.02}) \n",
    "elbo = pyro.infer.Trace_ELBO()\n",
    "svi = pyro.infer.SVI(model, guide, adam, elbo)"
   ]
  },
  {
   "cell_type": "code",
   "execution_count": 54,
   "metadata": {},
   "outputs": [],
   "source": [
    "\n",
    "for step in range(10000):  # Consider running for more steps.\n",
    "    loss = svi.step(torch.tensor(data1))\n",
    "    losses.append(loss)\n",
    "    #if step % 1000 == 0:\n",
    "    #    print(\"Elbo loss: {}\".format(loss))\n",
    "        "
   ]
  },
  {
   "cell_type": "code",
   "execution_count": 55,
   "metadata": {},
   "outputs": [
    {
     "data": {
      "image/png": "[encoded data removed]",
      "text/plain": [
       "<Figure size 360x144 with 1 Axes>"
      ]
     },
     "metadata": {
      "needs_background": "light"
     },
     "output_type": "display_data"
    }
   ],
   "source": [
    "plt.figure(figsize=(5, 2))\n",
    "plt.plot(losses)\n",
    "plt.xlabel(\"SVI step\")\n",
    "plt.ylabel(\"ELBO loss\");"
   ]
  },
  {
   "cell_type": "code",
   "execution_count": 56,
   "metadata": {},
   "outputs": [],
   "source": [
    "pi= pyro.param(\"pi\").data.cpu().numpy()"
   ]
  },
  {
   "cell_type": "code",
   "execution_count": 57,
   "metadata": {},
   "outputs": [],
   "source": [
    "from scipy.special import softmax\n",
    "prob=softmax(pi)"
   ]
  },
  {
   "cell_type": "code",
   "execution_count": 58,
   "metadata": {},
   "outputs": [
    {
     "name": "stdout",
     "output_type": "stream",
     "text": [
      "0 0.0021366714\n",
      "1 3.1344e-41\n",
      "2 7.256589e-39\n",
      "3 9.674e-41\n",
      "4 1.71817e-40\n",
      "5 1.07408e-40\n",
      "6 1.71515e-40\n",
      "7 7.84315e-40\n",
      "8 4.27669e-40\n",
      "9 1.2804e-40\n",
      "10 2.67885e-40\n",
      "11 2.929221e-39\n",
      "12 3.978836e-37\n",
      "13 1.9504e-40\n",
      "14 4.132599e-39\n",
      "15 8.149249e-10\n",
      "16 2.7798681e-38\n",
      "17 1.205963e-39\n",
      "18 0.0012899099\n",
      "19 2.4725142e-37\n",
      "20 1.0239679e-38\n",
      "21 5.797759e-33\n",
      "22 1.26029e-40\n",
      "23 1.6171832e-38\n",
      "24 0.00019719024\n",
      "25 1.076311e-39\n",
      "26 5.211019e-31\n",
      "27 1.4101539e-33\n",
      "28 8.881603e-39\n",
      "29 1.281989e-39\n",
      "30 1.5518757e-38\n",
      "31 2.71709e-40\n",
      "32 2.755e-41\n",
      "33 7.42009e-40\n",
      "34 8.2465e-41\n",
      "35 1.18434e-40\n",
      "36 2.1349787e-31\n",
      "37 0.003330008\n",
      "38 4.776686e-38\n",
      "39 2.1764e-41\n",
      "40 8.4527336e-32\n",
      "41 1.4981347e-37\n",
      "42 1.2200995e-38\n",
      "43 1.565557e-39\n",
      "44 1.6950003e-38\n",
      "45 1.5300837e-32\n",
      "46 1.014701e-32\n",
      "47 0.000375451\n",
      "48 6.2671923e-35\n",
      "49 3.9777e-41\n",
      "50 4.8932725e-05\n",
      "51 5.9346e-41\n",
      "52 1.69239e-40\n",
      "53 1.1571076e-38\n",
      "54 1.1689888e-38\n",
      "55 2.266171e-39\n",
      "56 3.40012e-40\n",
      "57 1.59625e-40\n",
      "58 3.02655e-40\n",
      "59 9.1087e-41\n",
      "60 2.019253e-39\n",
      "61 3.23078e-40\n",
      "62 1.52943e-39\n",
      "63 3.3337e-41\n",
      "64 6.113e-41\n",
      "65 2.593326e-39\n",
      "66 1.5076747e-37\n",
      "67 1.12788e-40\n",
      "68 2.9723228e-38\n",
      "69 2.083016e-39\n",
      "70 5.003497e-39\n",
      "71 8.6397e-41\n",
      "72 5.0438e-41\n",
      "73 3.1946326e-38\n",
      "74 8.172134e-39\n",
      "75 1.443689e-39\n",
      "76 4.2980935e-38\n",
      "77 2.1871072e-33\n",
      "78 7.6629e-41\n",
      "79 3.9084e-41\n",
      "80 1.64556e-40\n",
      "81 3.192854e-38\n",
      "82 1.524258e-39\n",
      "83 2.5853044e-32\n",
      "84 4.4015498e-37\n",
      "85 1.0359828e-38\n",
      "86 1.1469982e-33\n",
      "87 4.3297e-41\n",
      "88 3.9665e-41\n",
      "89 2.68869e-40\n",
      "90 1.66306e-40\n",
      "91 2.53282e-40\n",
      "92 0.0034846833\n",
      "93 2.735256e-39\n",
      "94 7.220046e-35\n",
      "95 8.4584e-41\n",
      "96 5.54697e-40\n",
      "97 8.076924e-32\n",
      "98 3.1379e-41\n",
      "99 3.5062e-40\n",
      "100 0.9604221\n",
      "101 2.8595e-41\n",
      "102 1.7732849e-38\n",
      "103 0.022007754\n",
      "104 1.1190708e-16\n",
      "105 3.116381e-39\n",
      "106 1.779321e-32\n",
      "107 9.322836e-39\n",
      "108 1.02285e-40\n",
      "109 4.7584e-41\n",
      "110 3.96608e-40\n",
      "111 2.714839e-39\n",
      "112 8.68086e-40\n",
      "113 2.0511384e-38\n",
      "114 2.990383e-38\n",
      "115 2.769284e-38\n",
      "116 9.4327e-41\n",
      "117 5.8536473e-34\n",
      "118 7.0331e-41\n",
      "119 6.118e-41\n",
      "120 2.4375056e-24\n",
      "121 6.2704e-40\n",
      "122 6.557255e-10\n",
      "123 9.740479e-39\n",
      "124 5.980139e-39\n",
      "125 1.49094e-40\n",
      "126 2.6328e-41\n",
      "127 1.2828015e-30\n",
      "128 2.382297e-07\n",
      "129 2.88328e-40\n",
      "130 4.6382e-41\n",
      "131 2.1951984e-33\n",
      "132 1.16193875e-36\n",
      "133 3.53098e-40\n",
      "134 4.2649003e-33\n",
      "135 8.7836024e-36\n",
      "136 1.84927e-39\n",
      "137 4.6543e-41\n",
      "138 2.1693113e-31\n",
      "139 2.306446e-39\n",
      "140 2.4188e-41\n",
      "141 6.355003e-39\n",
      "142 2.9195e-41\n",
      "143 6.1195e-41\n",
      "144 8.157326e-05\n",
      "145 8.0708e-41\n",
      "146 2.18513e-40\n",
      "147 2.3273798e-05\n",
      "148 3.8055805e-36\n",
      "149 5.8082135e-31\n",
      "150 2.551874e-39\n",
      "151 8.44214e-40\n",
      "152 6.3522725e-29\n",
      "153 7.496049e-33\n",
      "154 3.03813e-40\n",
      "155 3.7449921e-37\n",
      "156 7.177169e-38\n",
      "157 6.71342e-40\n",
      "158 1.2007673e-22\n",
      "159 0.0021832061\n",
      "160 9.08054e-40\n",
      "161 4.2859e-41\n",
      "162 2.67092e-40\n",
      "163 3.1109e-41\n",
      "164 1.23700165e-11\n",
      "165 6.4853946e-30\n",
      "166 1.16215e-40\n",
      "167 6.2571993e-30\n",
      "168 5.5777e-41\n",
      "169 4.96749e-40\n",
      "170 3.471246e-39\n",
      "171 1.671678e-38\n",
      "172 7.9748e-41\n",
      "173 9.1826e-41\n",
      "174 0.00393447\n",
      "175 2.2111e-40\n",
      "176 1.11762e-40\n",
      "177 7.280547e-39\n",
      "178 2.493169e-31\n",
      "179 1.3619131e-09\n",
      "180 8.792748e-30\n",
      "181 0.00048537698\n",
      "182 2.428431e-37\n",
      "183 7.3422e-41\n",
      "184 1.55362e-40\n",
      "185 7.3606e-41\n",
      "186 3.06762e-40\n",
      "187 1.8303988e-38\n",
      "188 5.988e-41\n",
      "189 7.2337436e-36\n",
      "190 4.0184e-39\n",
      "191 2.66447e-40\n",
      "192 2.789736e-39\n",
      "193 2.482126e-06\n",
      "194 3.4443073e-34\n",
      "195 3.07846e-40\n",
      "196 1.01698e-40\n",
      "197 4.442807e-39\n",
      "198 3.932486e-12\n",
      "199 5.7135e-41\n"
     ]
    }
   ],
   "source": [
    "for i in range(len(prob)):\n",
    "    print(i,prob[i])"
   ]
  },
  {
   "cell_type": "code",
   "execution_count": 59,
   "metadata": {},
   "outputs": [
    {
     "data": {
      "image/png": "[encoded data removed]",
      "text/plain": [
       "<Figure size 432x288 with 1 Axes>"
      ]
     },
     "metadata": {
      "needs_background": "light"
     },
     "output_type": "display_data"
    }
   ],
   "source": [
    "import matplotlib.pyplot as plt\n",
    "\n",
    "\n",
    "# プロット\n",
    "plt.plot(prob)\n",
    "\n",
    "\n",
    "# プロット表示(設定の反映)\n",
    "plt.show()"
   ]
  },
  {
   "cell_type": "code",
   "execution_count": 57,
   "metadata": {},
   "outputs": [],
   "source": [
    "a1=pyro.param(\"a1\").data.cpu().numpy()\n",
    "b1=pyro.param(\"b1\").data.cpu().numpy()"
   ]
  },
  {
   "cell_type": "code",
   "execution_count": 58,
   "metadata": {},
   "outputs": [
    {
     "name": "stdout",
     "output_type": "stream",
     "text": [
      "10700.757605740177 106.68338058261186\n"
     ]
    }
   ],
   "source": [
    "print(a1,b1)"
   ]
  },
  {
   "cell_type": "code",
   "execution_count": 61,
   "metadata": {},
   "outputs": [],
   "source": [
    "a2=pyro.param(\"a2\").data.cpu().numpy()\n",
    "b2=pyro.param(\"b2\").data.cpu().numpy()"
   ]
  },
  {
   "cell_type": "code",
   "execution_count": 62,
   "metadata": {},
   "outputs": [
    {
     "name": "stdout",
     "output_type": "stream",
     "text": [
      "1579.665352506125 99.31046622658477\n"
     ]
    }
   ],
   "source": [
    "print(a2,b2)"
   ]
  }
 ],
 "metadata": {
  "kernelspec": {
   "display_name": "dmm_pyro",
   "language": "python",
   "name": "python3"
  },
  "language_info": {
   "codemirror_mode": {
    "name": "ipython",
    "version": 3
   },
   "file_extension": ".py",
   "mimetype": "text/x-python",
   "name": "python",
   "nbconvert_exporter": "python",
   "pygments_lexer": "ipython3",
   "version": "3.10.8"
  },
  "orig_nbformat": 4,
  "vscode": {
   "interpreter": {
    "hash": "9b336ddd55984568a7965356b6173b4033472f9fadd01253784833df542af716"
   }
  }
 },
 "nbformat": 4,
 "nbformat_minor": 2
}
