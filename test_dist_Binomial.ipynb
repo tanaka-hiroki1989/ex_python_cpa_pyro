{
 "cells": [
  {
   "cell_type": "code",
   "execution_count": 1,
   "metadata": {},
   "outputs": [
    {
     "name": "stderr",
     "output_type": "stream",
     "text": [
      "/opt/anaconda3/envs/dmm_pyro/lib/python3.10/site-packages/tqdm/auto.py:22: TqdmWarning: IProgress not found. Please update jupyter and ipywidgets. See https://ipywidgets.readthedocs.io/en/stable/user_install.html\n",
      "  from .autonotebook import tqdm as notebook_tqdm\n"
     ]
    },
    {
     "data": {
      "text/plain": [
       "tensor(6.6184e-05, dtype=torch.float64, grad_fn=<DivBackward0>)"
      ]
     },
     "execution_count": 1,
     "metadata": {},
     "output_type": "execute_result"
    }
   ],
   "source": [
    "import torch\n",
    "import pyro\n",
    "import pyro.distributions as dist\n",
    "import pyro.distributions.constraints as constraints\n",
    "a1 = pyro.param('a1', lambda: torch.tensor(0.9,dtype=torch.double),\n",
    "    constraint=constraints.positive)\n",
    "b1 = pyro.param('b1', lambda: torch.tensor(100.0,dtype=torch.double),\n",
    "        constraint=constraints.positive)\n",
    "lambda1 = pyro.sample(\"lambda1\", dist.Gamma(a1,b1))\n",
    "lambda1"
   ]
  },
  {
   "cell_type": "code",
   "execution_count": 2,
   "metadata": {},
   "outputs": [
    {
     "name": "stdout",
     "output_type": "stream",
     "text": [
      "1 [tensor(0.3858)]\n",
      "2 [tensor(3.9376), tensor(-3.0860)]\n",
      "3 [tensor(4.3459), tensor(-31.4969), tensor(27.5704)]\n"
     ]
    },
    {
     "data": {
      "text/plain": [
       "tensor(-3.2754)"
      ]
     },
     "execution_count": 2,
     "metadata": {},
     "output_type": "execute_result"
    }
   ],
   "source": [
    "import torch\n",
    "from customizedtorch.constrains import zero_to_one\n",
    "from customizedpyro.distributions.poibin import PoissonBinomial\n",
    "poibin = PoissonBinomial(p=torch.tensor([0.1,0.3,0.4,0.9]))\n",
    "x = torch.tensor(0)\n",
    "poibin.log_prob(x)"
   ]
  },
  {
   "cell_type": "code",
   "execution_count": null,
   "metadata": {},
   "outputs": [
    {
     "name": "stderr",
     "output_type": "stream",
     "text": [
      "/opt/anaconda3/envs/dmm_pyro/lib/python3.10/site-packages/tqdm/auto.py:22: TqdmWarning: IProgress not found. Please update jupyter and ipywidgets. See https://ipywidgets.readthedocs.io/en/stable/user_install.html\n",
      "  from .autonotebook import tqdm as notebook_tqdm\n"
     ]
    },
    {
     "name": "stdout",
     "output_type": "stream",
     "text": [
      "prob: tensor(0., dtype=torch.float64, grad_fn=<MulBackward0>)\n"
     ]
    },
    {
     "data": {
      "text/plain": [
       "tensor(4, dtype=torch.int32)"
      ]
     },
     "execution_count": 1,
     "metadata": {},
     "output_type": "execute_result"
    }
   ],
   "source": [
    "import pyro\n",
    "import torch\n",
    "from new_dist.poibin import PoissonBinomial\n",
    "p = pyro.param('p', lambda: torch.tensor([1.0,0.9,0.9,0.9],dtype=torch.double))\n",
    "\n",
    "pyro.sample(\"hoge\",PoissonBinomial(p=p))"
   ]
  }
 ],
 "metadata": {
  "kernelspec": {
   "display_name": "Python 3.10.0 ('dmm_pyro')",
   "language": "python",
   "name": "python3"
  },
  "language_info": {
   "codemirror_mode": {
    "name": "ipython",
    "version": 3
   },
   "file_extension": ".py",
   "mimetype": "text/x-python",
   "name": "python",
   "nbconvert_exporter": "python",
   "pygments_lexer": "ipython3",
   "version": "3.10.0"
  },
  "orig_nbformat": 4,
  "vscode": {
   "interpreter": {
    "hash": "6ad9505370cb3dec620dc35465a52cf3ae64300f69412d40d5aa0cfb7cfa7a6a"
   }
  }
 },
 "nbformat": 4,
 "nbformat_minor": 2
}
